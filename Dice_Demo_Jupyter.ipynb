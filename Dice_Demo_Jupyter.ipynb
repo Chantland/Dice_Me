{
 "cells": [
  {
   "cell_type": "code",
   "execution_count": 39,
   "metadata": {},
   "outputs": [],
   "source": [
    "from scipy.spatial import distance\n",
    "import numpy as np"
   ]
  },
  {
   "cell_type": "code",
   "execution_count": 40,
   "metadata": {},
   "outputs": [],
   "source": [
    "dice_dict = {}\n",
    "dice_dict = {'dice_black':np.array([40, 40, 40]),\n",
    "            'dice_brown':np.array([155, 60, 40]),\n",
    "            'dice_red':np.array([200, 30, 30]),\n",
    "            'dice_orange':np.array([250, 102, 70]),\n",
    "            'dice_green':np.array([58, 170, 151]),\n",
    "            'dice_blue':np.array([40, 110, 245]),\n",
    "            'dice_Lpurple':np.array([200, 160, 200]),\n",
    "            'dice_Dpurple':np.array([67, 27, 107]),\n",
    "            'dice_white':np.array([230, 230, 250])\n",
    "}\n"
   ]
  },
  {
   "cell_type": "code",
   "execution_count": 54,
   "metadata": {},
   "outputs": [
    {
     "data": {
      "text/plain": [
       "array([[ 40,  11,  57],\n",
       "       [234, 169, 176],\n",
       "       [214,  75,  10],\n",
       "       [151,  26, 152],\n",
       "       [ 64, 129, 139],\n",
       "       [ 15,  80, 109],\n",
       "       [ 16, 152, 231],\n",
       "       [186, 116, 113],\n",
       "       [228, 166, 105],\n",
       "       [ 23, 157,  22],\n",
       "       [  6, 148,  66],\n",
       "       [ 88,  32,  65],\n",
       "       [115,  81,  22],\n",
       "       [243, 150,  10],\n",
       "       [ 61, 127,  77],\n",
       "       [ 72,  88, 241],\n",
       "       [240, 224,  29],\n",
       "       [173,  52, 243],\n",
       "       [229,  56, 149],\n",
       "       [260, 260,  40]])"
      ]
     },
     "execution_count": 54,
     "metadata": {},
     "output_type": "execute_result"
    }
   ],
   "source": [
    "centroids = []\n",
    "for key, value in dice_dict.items():\n",
    "    centroids.append(value)\n",
    "\n",
    "points = np.array(np.random.randint(250, size=(20, 3)))\n",
    "\n",
    "points[-1] = [260, 260, 40]\n",
    "points\n",
    "\n"
   ]
  },
  {
   "cell_type": "code",
   "execution_count": 55,
   "metadata": {},
   "outputs": [
    {
     "data": {
      "text/plain": [
       "array([0, 6, 2, 7, 4, 7, 5, 3, 3, 0, 4, 7, 1, 3, 4, 5, 3, 6, 3, 3],\n",
       "      dtype=int64)"
      ]
     },
     "execution_count": 55,
     "metadata": {},
     "output_type": "execute_result"
    }
   ],
   "source": [
    "pw_dist = distance.cdist(points, centroids)\n",
    "pw_dist\n",
    "\n",
    "labels = np.argmin(pw_dist, axis =1) # get min column ndx per row\n",
    "labels #The index is the centroid's index that is closest to the point"
   ]
  },
  {
   "cell_type": "code",
   "execution_count": 56,
   "metadata": {},
   "outputs": [
    {
     "data": {
      "text/plain": [
       "array([ 40.        ,  85.        ,  86.66666667, 140.66666667,\n",
       "       126.33333333, 131.66666667, 186.66666667,  67.        ,\n",
       "       236.66666667])"
      ]
     },
     "execution_count": 56,
     "metadata": {},
     "output_type": "execute_result"
    }
   ],
   "source": [
    "mean_centroids = np.mean(centroids, axis = 1)\n",
    "mean_centroids\n",
    "\n"
   ]
  },
  {
   "cell_type": "code",
   "execution_count": 57,
   "metadata": {},
   "outputs": [
    {
     "data": {
      "text/plain": [
       "array([ 36.        , 193.        ,  99.66666667, 109.66666667,\n",
       "       110.66666667,  68.        , 133.        , 138.33333333,\n",
       "       166.33333333,  67.33333333,  73.33333333,  61.66666667,\n",
       "        72.66666667, 134.33333333,  88.33333333, 133.66666667,\n",
       "       164.33333333, 156.        , 144.66666667, 186.66666667])"
      ]
     },
     "execution_count": 57,
     "metadata": {},
     "output_type": "execute_result"
    }
   ],
   "source": [
    "mean_points =  np.mean(points, axis = 1)\n",
    "mean_points\n"
   ]
  },
  {
   "cell_type": "code",
   "execution_count": 58,
   "metadata": {},
   "outputs": [],
   "source": [
    "pseudo_lables = []\n",
    "for i in range(0, len(mean_points)):\n",
    "    lowest_number = 251\n",
    "    lowest_cent = -1\n",
    "    for ii in range(0, len(mean_centroids)):\n",
    "        compNum = abs(mean_points[i] - mean_centroids[ii])\n",
    "        if compNum < lowest_number:\n",
    "            lowest_number = compNum\n",
    "            lowest_cent = ii\n",
    "    pseudo_lables.append(lowest_cent)"
   ]
  },
  {
   "cell_type": "code",
   "execution_count": 59,
   "metadata": {},
   "outputs": [
    {
     "data": {
      "text/plain": [
       "[0, 6, 2, 4, 4, 7, 5, 3, 6, 7, 7, 7, 7, 5, 2, 5, 6, 3, 3, 6]"
      ]
     },
     "execution_count": 59,
     "metadata": {},
     "output_type": "execute_result"
    }
   ],
   "source": [
    "pseudo_lables"
   ]
  }
 ],
 "metadata": {
  "interpreter": {
   "hash": "c51d22a6e700603606d0eacc0072ee59cf10084b737a530df8cd1ae37f92a519"
  },
  "kernelspec": {
   "display_name": "Python 3.8.8 ('base')",
   "language": "python",
   "name": "python3"
  },
  "language_info": {
   "codemirror_mode": {
    "name": "ipython",
    "version": 3
   },
   "file_extension": ".py",
   "mimetype": "text/x-python",
   "name": "python",
   "nbconvert_exporter": "python",
   "pygments_lexer": "ipython3",
   "version": "3.8.12"
  },
  "orig_nbformat": 4
 },
 "nbformat": 4,
 "nbformat_minor": 2
}
